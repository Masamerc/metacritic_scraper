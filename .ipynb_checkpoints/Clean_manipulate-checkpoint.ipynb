{
 "cells": [
  {
   "cell_type": "code",
   "execution_count": 1,
   "metadata": {},
   "outputs": [],
   "source": [
    "import pandas as pd\n",
    "import numpy as np\n",
    "import json\n",
    "from datetime import datetime"
   ]
  },
  {
   "cell_type": "code",
   "execution_count": 2,
   "metadata": {},
   "outputs": [],
   "source": [
    "with open(\"data.json\", \"r\") as f:\n",
    "    data = json.load(f)\n",
    "    data = pd.DataFrame(data)"
   ]
  },
  {
   "cell_type": "code",
   "execution_count": 3,
   "metadata": {},
   "outputs": [],
   "source": [
    "# clean the data\n",
    "data.replace(\"tbd\", np.nan, inplace=True)\n",
    "data.release_date = data.release_date.apply(lambda x: datetime.strptime(x, \"%b %d\"))\n",
    "data[\"user_score\"] = data[\"user_score\"].astype(float)\n",
    "data[\"critic_score\"] = data[\"critic_score\"].astype(float)"
   ]
  },
  {
   "cell_type": "code",
   "execution_count": 4,
   "metadata": {},
   "outputs": [],
   "source": [
    "data_complete = data.dropna(subset=[\"critic_score\", \"user_score\"]).copy()"
   ]
  },
  {
   "cell_type": "markdown",
   "metadata": {},
   "source": [
    "## Find Out the best of best"
   ]
  },
  {
   "cell_type": "code",
   "execution_count": 9,
   "metadata": {},
   "outputs": [],
   "source": [
    "data_complete[\"combined_score\"] = data_complete[\"user_score\"] + data_complete[\"critic_score\"]"
   ]
  },
  {
   "cell_type": "code",
   "execution_count": 14,
   "metadata": {},
   "outputs": [
    {
     "name": "stdout",
     "output_type": "stream",
     "text": [
      "This time around, the No.1 overall best game is\n",
      "        'Monster Hunter: World - Iceborne'\n",
      "        with user_score = 8.4\n",
      "        and critic_score = 89.0\n",
      "        Overall score = 97.4\n",
      "\n",
      "        Followed by:\n",
      "        \n",
      "        No.2 'Frostpunk: Console Edition',\n",
      "              user_score = 7.5\n",
      "              citic_score = 87.0\n",
      "              Overall score = 97.4\n",
      "\n",
      "        No.3 'The Outer Worlds',\n",
      "              user_score = 8.4\n",
      "              citic_score = 86.0\n",
      "              Overall score = 97.4\n",
      "\n",
      "        No.4 'Ni no Kuni: Wrath of the White Witch Remastered',\n",
      "              user_score = 7.9\n",
      "              citic_score = 86.0\n",
      "              Overall score = 97.4\n",
      "\n",
      "        No.5 'The Legend of Heroes: Trails of Cold Steel III',\n",
      "              user_score = 8.7\n",
      "              citic_score = 83.0 \n",
      "              Overall score = 97.4\n",
      "        \n"
     ]
    }
   ],
   "source": [
    "best_10 = data_complete.sort_values(\"combined_score\", ascending=False)[:10]\n",
    "\n",
    "\n",
    "bests_list = []\n",
    "\n",
    "def store_overall_bests(n):\n",
    "    for i in range(n):\n",
    "        best_game = f\"\"\"This time around, the No.{i+1} overall game is '{best_10.iloc[i].title}'\n",
    "        with user_score = {best_10.iloc[i].user_score}\n",
    "        and critic_score = {best_10.iloc[i].critic_score}\n",
    "        Combined_score = {best_10.iloc[i].combined_score}\n",
    "        \"\"\"\n",
    "        bests_list.append(best_game)\n",
    "store_overall_bests(3)\n",
    "\n",
    "print(bests_list[0])\n",
    "\n"
   ]
  },
  {
   "cell_type": "markdown",
   "metadata": {},
   "source": [
    "## Best Critic Score & Best User Score"
   ]
  },
  {
   "cell_type": "code",
   "execution_count": 188,
   "metadata": {},
   "outputs": [
    {
     "name": "stdout",
     "output_type": "stream",
     "text": [
      "This time around, the No.1 critcs' reviewed game is\n",
      "    'Monster Hunter: World - Iceborne'\n",
      "    with user_score = 8.4\n",
      "    and critic_score = 89.0\n",
      "    \n",
      "    Followed by:\n",
      "    No.2 'Frostpunk: Console Edition',\n",
      "          user_score = 7.5\n",
      "          citic_score = 87.0\n",
      "    \n",
      "    No.3 'The Outer Worlds',\n",
      "          user_score = 8.4\n",
      "          citic_score = 86.0\n",
      "         \n",
      "    No.4 'Ni no Kuni: Wrath of the White Witch Remastered',\n",
      "          user_score = 7.9\n",
      "          citic_score = 86.0\n",
      "         \n",
      "    No.5 'Sayonara Wild Hearts',\n",
      "          user_score = 5.5\n",
      "          citic_score = 84.0 \n",
      "    \n"
     ]
    }
   ],
   "source": [
    "top_10_critic = data.sort_values(by=\"critic_score\", ascending=False)[:10]\n",
    "\n",
    "def store_critic_bests():\n",
    "    best_critic = f\"\"\"This time around, the No.1 critcs' favorite game is\n",
    "    '{top_10_critic.iloc[0].title}'\n",
    "    with user_score = {top_10_critic.iloc[0].user_score}\n",
    "    and critic_score = {top_10_critic.iloc[0].critic_score}\n",
    "    \n",
    "    Followed by:\n",
    "    No.2 '{top_10_critic.iloc[1].title}',\n",
    "          user_score = {top_10_critic.iloc[1].user_score}\n",
    "          citic_score = {top_10_critic.iloc[1].critic_score}\n",
    "    \n",
    "    No.3 '{top_10_critic.iloc[2].title}',\n",
    "          user_score = {top_10_critic.iloc[2].user_score}\n",
    "          citic_score = {top_10_critic.iloc[2].critic_score}\n",
    "         \n",
    "    No.4 '{top_10_critic.iloc[3].title}',\n",
    "          user_score = {top_10_critic.iloc[3].user_score}\n",
    "          citic_score = {top_10_critic.iloc[3].critic_score}\n",
    "         \n",
    "    No.5 '{top_10_critic.iloc[4].title}',\n",
    "          user_score = {top_10_critic.iloc[4].user_score}\n",
    "          citic_score = {top_10_critic.iloc[4].critic_score} \n",
    "    \"\"\"\n",
    "    return best_critic\n",
    "\n",
    "topc = store_critic_bests()\n",
    "print(topc)\n",
    "        "
   ]
  },
  {
   "cell_type": "code",
   "execution_count": 171,
   "metadata": {},
   "outputs": [
    {
     "name": "stdout",
     "output_type": "stream",
     "text": [
      "This time around, the No.1 critcs' reviewed game is 'The Legend of Heroes: Trails of Cold Steel III'\n",
      "        with user_score = 8.7\n",
      "        and critic_score = 83.0\n",
      "        \n",
      "This time around, the No.2 critcs' reviewed game is 'eFootball PES 2020'\n",
      "        with user_score = 8.6\n",
      "        and critic_score = 82.0\n",
      "        \n",
      "This time around, the No.3 critcs' reviewed game is 'The Outer Worlds'\n",
      "        with user_score = 8.4\n",
      "        and critic_score = 86.0\n",
      "        \n"
     ]
    }
   ],
   "source": [
    "top_10_user = data.sort_values(by=\"user_score\", ascending=False)[:10]\n",
    "\n",
    "def store_user_bests(n):\n",
    "    for i in range(n):\n",
    "        best_user = f\"\"\"This time around, the No.{i+1} users' favorite is '{top_10_user.iloc[i].title}'\n",
    "        with user_score = {top_10_user.iloc[i].user_score}\n",
    "        and critic_score = {top_10_user.iloc[i].critic_score}\n",
    "        \"\"\"\n",
    "        print(best_user)\n",
    "        \n",
    "store_user_bests(3)"
   ]
  },
  {
   "cell_type": "markdown",
   "metadata": {},
   "source": [
    "## Finding the most controversial game"
   ]
  },
  {
   "cell_type": "code",
   "execution_count": 131,
   "metadata": {},
   "outputs": [],
   "source": [
    "data_complete[\"score_gap\"] = (data_complete[\"user_score\"] * 10) - data_complete[\"critic_score\"]\n",
    "turnout_good = data_complete.sort_values(\"score_gap\", ascending=False)[:10]\n",
    "turnout_bad = data_complete.sort_values(\"score_gap\", ascending=True)[:10]"
   ]
  },
  {
   "cell_type": "code",
   "execution_count": 182,
   "metadata": {
    "collapsed": true,
    "jupyter": {
     "outputs_hidden": true
    }
   },
   "outputs": [
    {
     "name": "stdout",
     "output_type": "stream",
     "text": [
      "This time around, the No.1 controversial but actually good game is\n",
      "    'ReadySet Heroes'\n",
      "    with user_score = 7.3\n",
      "    and critic_score = 52.0\n",
      "    \n",
      "    Followed by:\n",
      "    No.2 'MediEvil',\n",
      "          user_score = 8.4\n",
      "          citic_score = 67.0\n",
      "    \n",
      "    No.3 'Monkey King: Hero is Back',\n",
      "          user_score = 7.1\n",
      "          citic_score = 61.0\n",
      "         \n",
      "    No.4 'Code Vein',\n",
      "          user_score = 7.9\n",
      "          citic_score = 70.0\n",
      "         \n",
      "    No.5 'GreedFall',\n",
      "          user_score = 8.1\n",
      "          citic_score = 72.0\n",
      "    \n"
     ]
    }
   ],
   "source": [
    "# turnout_good\n",
    "\n",
    "def store_controverial_good():\n",
    "    controversial_good = f\"\"\"This time around, the No.1 controversial but actually good game is\n",
    "    '{turnout_good.iloc[0].title}'\n",
    "    with user_score = {turnout_good.iloc[0].user_score}\n",
    "    and critic_score = {turnout_good.iloc[0].critic_score}\n",
    "    \n",
    "    Followed by:\n",
    "    No.2 '{turnout_good.iloc[1].title}',\n",
    "          user_score = {turnout_good.iloc[1].user_score}\n",
    "          citic_score = {turnout_good.iloc[1].critic_score}\n",
    "    \n",
    "    No.3 '{turnout_good.iloc[2].title}',\n",
    "          user_score = {turnout_good.iloc[2].user_score}\n",
    "          citic_score = {turnout_good.iloc[2].critic_score}\n",
    "         \n",
    "    No.4 '{turnout_good.iloc[3].title}',\n",
    "          user_score = {turnout_good.iloc[3].user_score}\n",
    "          citic_score = {turnout_good.iloc[3].critic_score}\n",
    "         \n",
    "    No.5 '{turnout_good.iloc[4].title}',\n",
    "          user_score = {turnout_good.iloc[4].user_score}\n",
    "          citic_score = {turnout_good.iloc[4].critic_score}\n",
    "    \"\"\"\n",
    "    return controversial_good\n",
    "\n",
    "good = store_controverial_good()\n",
    "print(good)"
   ]
  },
  {
   "cell_type": "code",
   "execution_count": 183,
   "metadata": {
    "collapsed": true,
    "jupyter": {
     "outputs_hidden": true
    }
   },
   "outputs": [
    {
     "name": "stdout",
     "output_type": "stream",
     "text": [
      "This time around, the No.1 controversial but actually bad game is\n",
      "    'NBA 2K20'\n",
      "    with user_score = 0.7\n",
      "    and critic_score = 78.0\n",
      "    \n",
      "    Followed by:\n",
      "    No.2 'FIFA 20',\n",
      "          user_score = 1.1\n",
      "          citic_score = 79.0\n",
      "    \n",
      "    No.3 'Call of Duty: Modern Warfare',\n",
      "          user_score = 3.2\n",
      "          citic_score = 82.0\n",
      "         \n",
      "    No.4 'Disney Classic Games: Aladdin and the Lion King',\n",
      "          user_score = 2.9\n",
      "          citic_score = 78.0\n",
      "         \n",
      "    No.5 'Close to the Sun',\n",
      "          user_score = 1.8\n",
      "          citic_score = 63.0\n",
      "    \n"
     ]
    }
   ],
   "source": [
    "# turnout_bad\n",
    "\n",
    "def store_controverial_bad():\n",
    "    controversial_bad = f\"\"\"This time around, the No.1 controversial but actually bad game is\n",
    "    '{turnout_bad.iloc[0].title}'\n",
    "    with user_score = {turnout_bad.iloc[0].user_score}\n",
    "    and critic_score = {turnout_bad.iloc[0].critic_score}\n",
    "    \n",
    "    Followed by:\n",
    "    No.2 '{turnout_bad.iloc[1].title}',\n",
    "          user_score = {turnout_bad.iloc[1].user_score}\n",
    "          citic_score = {turnout_bad.iloc[1].critic_score}\n",
    "    \n",
    "    No.3 '{turnout_bad.iloc[2].title}',\n",
    "          user_score = {turnout_bad.iloc[2].user_score}\n",
    "          citic_score = {turnout_bad.iloc[2].critic_score}\n",
    "         \n",
    "    No.4 '{turnout_bad.iloc[3].title}',\n",
    "          user_score = {turnout_bad.iloc[3].user_score}\n",
    "          citic_score = {turnout_bad.iloc[3].critic_score}\n",
    "         \n",
    "    No.5 '{turnout_bad.iloc[4].title}',\n",
    "          user_score = {turnout_bad.iloc[4].user_score}\n",
    "          citic_score = {turnout_bad.iloc[4].critic_score}\n",
    "    \"\"\"\n",
    "    return controversial_bad\n",
    "\n",
    "bad = store_controverial_bad()\n",
    "print(bad)"
   ]
  }
 ],
 "metadata": {
  "kernelspec": {
   "display_name": "Python 3",
   "language": "python",
   "name": "python3"
  },
  "language_info": {
   "codemirror_mode": {
    "name": "ipython",
    "version": 3
   },
   "file_extension": ".py",
   "mimetype": "text/x-python",
   "name": "python",
   "nbconvert_exporter": "python",
   "pygments_lexer": "ipython3",
   "version": "3.7.3"
  }
 },
 "nbformat": 4,
 "nbformat_minor": 4
}
